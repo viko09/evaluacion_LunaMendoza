{
 "cells": [
  {
   "cell_type": "code",
   "id": "initial_id",
   "metadata": {
    "collapsed": true,
    "ExecuteTime": {
     "end_time": "2025-06-20T07:48:31.805925Z",
     "start_time": "2025-06-20T07:48:31.801032Z"
    }
   },
   "source": [
    "import pandas as pd\n",
    "import numpy as np"
   ],
   "outputs": [],
   "execution_count": 1
  },
  {
   "metadata": {
    "ExecuteTime": {
     "end_time": "2025-06-20T07:48:44.500816Z",
     "start_time": "2025-06-20T07:48:44.441578Z"
    }
   },
   "cell_type": "code",
   "source": [
    "# Construct the full file path\n",
    "file_path = '/home/vikoluna/PycharmProjects/evaluacion_LunaMendoza/Book.csv'\n",
    "\n",
    "# Read the CSV file into a DataFrame\n",
    "df = pd.read_csv(file_path)\n",
    "\n",
    "# Display the first few rows to verify\n",
    "df.head()"
   ],
   "id": "8df2e6e3d897f3e5",
   "outputs": [
    {
     "data": {
      "text/plain": [
       "  Calendar Week Expert Partner Expert Location OIT Node 1 (Contact Drivers)  \\\n",
       "0     7/28/2024     CONCENTRIX     Mexico City           Account management   \n",
       "1     7/28/2024     CONCENTRIX     Mexico City           Account management   \n",
       "2     7/28/2024     CONCENTRIX     Mexico City           Account management   \n",
       "3     7/28/2024     CONCENTRIX     Mexico City           Account management   \n",
       "4     7/28/2024     CONCENTRIX     Mexico City           Account management   \n",
       "\n",
       "  OIT Node 2 (Contact Drivers) OIT Node 3 (Contact Drivers) Handled Contacts  \\\n",
       "0       Access and permissions           Login and password              85.   \n",
       "1       Access and permissions                 Manage users              13.   \n",
       "2       Access and permissions              Multi-user mode              20.   \n",
       "3       Access and permissions        Primary administrator              49.   \n",
       "4       Access and permissions                            -             149.   \n",
       "\n",
       "    AHT Transfers (%)   tNPS Survey Resp. Rate (tNPS) TNPS Survey Resp. Count  \\\n",
       "0  28.1         18.8%   71.4                    14.9%                      7.   \n",
       "1  23.9         23.1%     .0                    25.0%                      2.   \n",
       "2  41.0         15.0%   25.0                    36.4%                      4.   \n",
       "3  27.9          8.2%  -25.0                    13.8%                      4.   \n",
       "4  29.4         15.4%   29.4                    19.1%                     17.   \n",
       "\n",
       "  Issue Resolution (tNPS) New MCR 7-Day (Look-forward) Cases  \\\n",
       "0                   85.7%                        21.2%   75.   \n",
       "1                   50.0%                        30.0%   13.   \n",
       "2                   75.0%                        23.5%   23.   \n",
       "3                   66.7%                        18.4%   47.   \n",
       "4                   75.0%                        20.3%  142.   \n",
       "\n",
       "  Cases (excl. Internal)  # of Experts  \n",
       "0                    60.          51.0  \n",
       "1                    11.          12.0  \n",
       "2                    15.          21.0  \n",
       "3                    37.          29.0  \n",
       "4                   113.          64.0  "
      ],
      "text/html": [
       "<div>\n",
       "<style scoped>\n",
       "    .dataframe tbody tr th:only-of-type {\n",
       "        vertical-align: middle;\n",
       "    }\n",
       "\n",
       "    .dataframe tbody tr th {\n",
       "        vertical-align: top;\n",
       "    }\n",
       "\n",
       "    .dataframe thead th {\n",
       "        text-align: right;\n",
       "    }\n",
       "</style>\n",
       "<table border=\"1\" class=\"dataframe\">\n",
       "  <thead>\n",
       "    <tr style=\"text-align: right;\">\n",
       "      <th></th>\n",
       "      <th>Calendar Week</th>\n",
       "      <th>Expert Partner</th>\n",
       "      <th>Expert Location</th>\n",
       "      <th>OIT Node 1 (Contact Drivers)</th>\n",
       "      <th>OIT Node 2 (Contact Drivers)</th>\n",
       "      <th>OIT Node 3 (Contact Drivers)</th>\n",
       "      <th>Handled Contacts</th>\n",
       "      <th>AHT</th>\n",
       "      <th>Transfers (%)</th>\n",
       "      <th>tNPS</th>\n",
       "      <th>Survey Resp. Rate (tNPS)</th>\n",
       "      <th>TNPS Survey Resp. Count</th>\n",
       "      <th>Issue Resolution (tNPS)</th>\n",
       "      <th>New MCR 7-Day (Look-forward)</th>\n",
       "      <th>Cases</th>\n",
       "      <th>Cases (excl. Internal)</th>\n",
       "      <th># of Experts</th>\n",
       "    </tr>\n",
       "  </thead>\n",
       "  <tbody>\n",
       "    <tr>\n",
       "      <th>0</th>\n",
       "      <td>7/28/2024</td>\n",
       "      <td>CONCENTRIX</td>\n",
       "      <td>Mexico City</td>\n",
       "      <td>Account management</td>\n",
       "      <td>Access and permissions</td>\n",
       "      <td>Login and password</td>\n",
       "      <td>85.</td>\n",
       "      <td>28.1</td>\n",
       "      <td>18.8%</td>\n",
       "      <td>71.4</td>\n",
       "      <td>14.9%</td>\n",
       "      <td>7.</td>\n",
       "      <td>85.7%</td>\n",
       "      <td>21.2%</td>\n",
       "      <td>75.</td>\n",
       "      <td>60.</td>\n",
       "      <td>51.0</td>\n",
       "    </tr>\n",
       "    <tr>\n",
       "      <th>1</th>\n",
       "      <td>7/28/2024</td>\n",
       "      <td>CONCENTRIX</td>\n",
       "      <td>Mexico City</td>\n",
       "      <td>Account management</td>\n",
       "      <td>Access and permissions</td>\n",
       "      <td>Manage users</td>\n",
       "      <td>13.</td>\n",
       "      <td>23.9</td>\n",
       "      <td>23.1%</td>\n",
       "      <td>.0</td>\n",
       "      <td>25.0%</td>\n",
       "      <td>2.</td>\n",
       "      <td>50.0%</td>\n",
       "      <td>30.0%</td>\n",
       "      <td>13.</td>\n",
       "      <td>11.</td>\n",
       "      <td>12.0</td>\n",
       "    </tr>\n",
       "    <tr>\n",
       "      <th>2</th>\n",
       "      <td>7/28/2024</td>\n",
       "      <td>CONCENTRIX</td>\n",
       "      <td>Mexico City</td>\n",
       "      <td>Account management</td>\n",
       "      <td>Access and permissions</td>\n",
       "      <td>Multi-user mode</td>\n",
       "      <td>20.</td>\n",
       "      <td>41.0</td>\n",
       "      <td>15.0%</td>\n",
       "      <td>25.0</td>\n",
       "      <td>36.4%</td>\n",
       "      <td>4.</td>\n",
       "      <td>75.0%</td>\n",
       "      <td>23.5%</td>\n",
       "      <td>23.</td>\n",
       "      <td>15.</td>\n",
       "      <td>21.0</td>\n",
       "    </tr>\n",
       "    <tr>\n",
       "      <th>3</th>\n",
       "      <td>7/28/2024</td>\n",
       "      <td>CONCENTRIX</td>\n",
       "      <td>Mexico City</td>\n",
       "      <td>Account management</td>\n",
       "      <td>Access and permissions</td>\n",
       "      <td>Primary administrator</td>\n",
       "      <td>49.</td>\n",
       "      <td>27.9</td>\n",
       "      <td>8.2%</td>\n",
       "      <td>-25.0</td>\n",
       "      <td>13.8%</td>\n",
       "      <td>4.</td>\n",
       "      <td>66.7%</td>\n",
       "      <td>18.4%</td>\n",
       "      <td>47.</td>\n",
       "      <td>37.</td>\n",
       "      <td>29.0</td>\n",
       "    </tr>\n",
       "    <tr>\n",
       "      <th>4</th>\n",
       "      <td>7/28/2024</td>\n",
       "      <td>CONCENTRIX</td>\n",
       "      <td>Mexico City</td>\n",
       "      <td>Account management</td>\n",
       "      <td>Access and permissions</td>\n",
       "      <td>-</td>\n",
       "      <td>149.</td>\n",
       "      <td>29.4</td>\n",
       "      <td>15.4%</td>\n",
       "      <td>29.4</td>\n",
       "      <td>19.1%</td>\n",
       "      <td>17.</td>\n",
       "      <td>75.0%</td>\n",
       "      <td>20.3%</td>\n",
       "      <td>142.</td>\n",
       "      <td>113.</td>\n",
       "      <td>64.0</td>\n",
       "    </tr>\n",
       "  </tbody>\n",
       "</table>\n",
       "</div>"
      ]
     },
     "execution_count": 2,
     "metadata": {},
     "output_type": "execute_result"
    }
   ],
   "execution_count": 2
  },
  {
   "metadata": {
    "ExecuteTime": {
     "end_time": "2025-06-20T07:49:05.862203Z",
     "start_time": "2025-06-20T07:49:05.851070Z"
    }
   },
   "cell_type": "code",
   "source": "df['Expert Partner'].value_counts()",
   "id": "7e195b4d6e1a52a7",
   "outputs": [
    {
     "data": {
      "text/plain": [
       "Expert Partner\n",
       "CONCENTRIX    3146\n",
       "Name: count, dtype: int64"
      ]
     },
     "execution_count": 3,
     "metadata": {},
     "output_type": "execute_result"
    }
   ],
   "execution_count": 3
  },
  {
   "metadata": {
    "ExecuteTime": {
     "end_time": "2025-06-20T07:49:14.219246Z",
     "start_time": "2025-06-20T07:49:14.207316Z"
    }
   },
   "cell_type": "code",
   "source": "df['Expert Location'].value_counts()",
   "id": "7ac66cbc0eb0eb34",
   "outputs": [
    {
     "data": {
      "text/plain": [
       "Expert Location\n",
       "Mexico City    3146\n",
       "Name: count, dtype: int64"
      ]
     },
     "execution_count": 4,
     "metadata": {},
     "output_type": "execute_result"
    }
   ],
   "execution_count": 4
  },
  {
   "metadata": {
    "ExecuteTime": {
     "end_time": "2025-06-20T07:49:34.322526Z",
     "start_time": "2025-06-20T07:49:34.303317Z"
    }
   },
   "cell_type": "code",
   "source": [
    "'''\n",
    "Vamos a copiar el dataset para mantener el original intacto en caso de referencias\n",
    "futuras o revisión. Luego se va a limpiar cada columna del nuevo dataset.\n",
    "'''\n",
    "dataset = df.copy()\n",
    "\n",
    "dataset['Calendar Week'] = pd.to_datetime(dataset['Calendar Week'])\n",
    "\n",
    "dataset = (dataset.drop(columns=['Expert Partner', 'Expert Location']))\n",
    "\n",
    "nodo1 = df['OIT Node 1 (Contact Drivers)'].value_counts()\n",
    "nodo2 = df['OIT Node 2 (Contact Drivers)'].value_counts()\n",
    "nodo3 = df['OIT Node 3 (Contact Drivers)'].value_counts()"
   ],
   "id": "480f1eb2db0ce92",
   "outputs": [],
   "execution_count": 5
  },
  {
   "metadata": {},
   "cell_type": "code",
   "outputs": [],
   "execution_count": null,
   "source": "",
   "id": "fc7c61b8f5a4fdcc"
  }
 ],
 "metadata": {
  "kernelspec": {
   "display_name": "Python 3",
   "language": "python",
   "name": "python3"
  },
  "language_info": {
   "codemirror_mode": {
    "name": "ipython",
    "version": 2
   },
   "file_extension": ".py",
   "mimetype": "text/x-python",
   "name": "python",
   "nbconvert_exporter": "python",
   "pygments_lexer": "ipython2",
   "version": "2.7.6"
  }
 },
 "nbformat": 4,
 "nbformat_minor": 5
}
